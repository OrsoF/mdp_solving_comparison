{
 "cells": [
  {
   "cell_type": "code",
   "execution_count": 13,
   "metadata": {},
   "outputs": [],
   "source": [
    "\n",
    "import numpy as np\n",
    "import gym\n",
    "from mdptoolbox.util import check\n",
    "\n",
    "gym_env = gym.make(\"Taxi-v3\")\n",
    "\n",
    "def build_P_frozen_lake(A, S):\n",
    "    P = np.zeros((A, S, S))\n",
    "    for a in range(A):\n",
    "        for i in range(S):   \n",
    "            liste = gym_env.P[i][a]  #env.P[0] etat 1, les actions qu on peu faire depuis et leurs détails\n",
    "            for tup in liste:\n",
    "                P[a][i,tup[1]] = P[a][i,tup[1]] + tup[0]\n",
    "    return P\n",
    "\n",
    "def build_R_frozen_lake(A, S):\n",
    "    R = np.zeros((S,A))\n",
    "    for s in range(S):\n",
    "        for a in range(A):\n",
    "            liste = gym_env.P[s][a]\n",
    "            for tup in liste:\n",
    "                R[s,a] = R[s,a] + tup[2]\n",
    "    return R\n",
    "\n",
    "class mdp_env:\n",
    "    def __init__(self) -> None:\n",
    "        self.S = gym_env.observation_space.n\n",
    "        self.A = gym_env.action_space.n\n",
    "        self.P = build_P_frozen_lake(self.A, self.S)\n",
    "        self.R = build_R_frozen_lake(self.A, self.S)\n",
    "        self.gamma = 0.9999"
   ]
  },
  {
   "cell_type": "code",
   "execution_count": 14,
   "metadata": {},
   "outputs": [
    {
     "data": {
      "text/plain": [
       "500"
      ]
     },
     "execution_count": 14,
     "metadata": {},
     "output_type": "execute_result"
    }
   ],
   "source": [
    "gym_env.observation_space.n"
   ]
  },
  {
   "cell_type": "code",
   "execution_count": 16,
   "metadata": {},
   "outputs": [
    {
     "data": {
      "text/plain": [
       "(500, 6)"
      ]
     },
     "execution_count": 16,
     "metadata": {},
     "output_type": "execute_result"
    }
   ],
   "source": [
    "env = mdp_env()\n",
    "env.R.shape"
   ]
  },
  {
   "cell_type": "code",
   "execution_count": 18,
   "metadata": {},
   "outputs": [],
   "source": [
    "from mdptoolbox.util import check\n",
    "check(env.P, env.R)"
   ]
  }
 ],
 "metadata": {
  "kernelspec": {
   "display_name": "Python 3.10.8 64-bit (microsoft store)",
   "language": "python",
   "name": "python3"
  },
  "language_info": {
   "codemirror_mode": {
    "name": "ipython",
    "version": 3
   },
   "file_extension": ".py",
   "mimetype": "text/x-python",
   "name": "python",
   "nbconvert_exporter": "python",
   "pygments_lexer": "ipython3",
   "version": "3.10.8"
  },
  "orig_nbformat": 4,
  "vscode": {
   "interpreter": {
    "hash": "fc7f2a574155454ecab37db9cc1b97d5bbc50a3719ebccb89594338132adf0cd"
   }
  }
 },
 "nbformat": 4,
 "nbformat_minor": 2
}
