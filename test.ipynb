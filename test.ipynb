{
 "cells": [
  {
   "cell_type": "code",
   "execution_count": 7,
   "metadata": {},
   "outputs": [
    {
     "name": "stdout",
     "output_type": "stream",
     "text": [
      "0\n",
      "(3, 0, 0, 0)\n"
     ]
    }
   ],
   "source": [
    "from environments.four_rooms_grid import Rooms\n",
    "\n",
    "env = Rooms()\n",
    "\n",
    "from mdptoolbox.mdp import ValueIteration\n",
    "\n",
    "from time import thread_time_ns\n",
    "\n",
    "t = thread_time_ns()\n",
    "vi = ValueIteration(env.P, env.R, env.gamma, epsilon=0.000001)\n",
    "vi.run()\n",
    "print(thread_time_ns()-t)\n",
    "print(vi.policy)"
   ]
  }
 ],
 "metadata": {
  "kernelspec": {
   "display_name": "Python 3.9.13 ('base')",
   "language": "python",
   "name": "python3"
  },
  "language_info": {
   "codemirror_mode": {
    "name": "ipython",
    "version": 3
   },
   "file_extension": ".py",
   "mimetype": "text/x-python",
   "name": "python",
   "nbconvert_exporter": "python",
   "pygments_lexer": "ipython3",
   "version": "3.9.13"
  },
  "orig_nbformat": 4,
  "vscode": {
   "interpreter": {
    "hash": "51569e6e7f515387f5656396ee64c6c0501f823e228868d6193a7e551d0ebb3a"
   }
  }
 },
 "nbformat": 4,
 "nbformat_minor": 2
}
