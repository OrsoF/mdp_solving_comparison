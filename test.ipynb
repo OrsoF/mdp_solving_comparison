{
 "cells": [
  {
   "cell_type": "code",
   "execution_count": 1,
   "metadata": {},
   "outputs": [
    {
     "name": "stdout",
     "output_type": "stream",
     "text": [
      "Set parameter Username\n",
      "Set parameter LogFile to value \"gurobi.log\"\n",
      "Academic license - for non-commercial use only - expires 2023-12-10\n",
      "Set parameter Username\n",
      "Academic license - for non-commercial use only - expires 2023-12-10\n"
     ]
    }
   ],
   "source": [
    "from solvs import Solver\n",
    "from envs import MdpEnv\n",
    "from gurobipy import Model, LinExpr, GRB\n",
    "from time import thread_time_ns as thread_time"
   ]
  },
  {
   "cell_type": "code",
   "execution_count": 3,
   "metadata": {},
   "outputs": [
    {
     "name": "stdout",
     "output_type": "stream",
     "text": [
      "['Ex10', 'Ex20', 'Ex30', 'Ex31', 'Ex40', 'four_rooms', 'frozen_lake_eight', 'frozen_lake', 'taxi']\n"
     ]
    }
   ],
   "source": [
    "env = MdpEnv()\n",
    "print(env.available_envs)"
   ]
  },
  {
   "cell_type": "code",
   "execution_count": 4,
   "metadata": {},
   "outputs": [
    {
     "name": "stdout",
     "output_type": "stream",
     "text": [
      "Ex40\n"
     ]
    }
   ],
   "source": [
    "env_name = env.available_envs[4]\n",
    "print(env_name)\n",
    "env.make_env(env_name)"
   ]
  },
  {
   "cell_type": "code",
   "execution_count": 7,
   "metadata": {},
   "outputs": [],
   "source": [
    "class GurobiSolverPL:\n",
    "    def __init__(self, env) -> None:\n",
    "        self.env = env\n",
    "        self.model = Model(\"MDP\")\n",
    "        self.model.setParam('OutputFlag', 0)\n",
    "        self.model.setParam(GRB.Param.Threads, 1)\n",
    "        self.model.setParam('LogToConsole', 0)\n",
    "    \n",
    "    def build(self):\n",
    "        start_time = thread_time()\n",
    "        self.var = []\n",
    "        for _ in range(self.env.S):\n",
    "            self.var.append(self.model.addVar(vtype=GRB.CONTINUOUS, lb=0))\n",
    "        self.model.update()\n",
    "        self.obj = LinExpr()\n",
    "        for i in range(self.env.S):\n",
    "            self.obj += self.var[i]/self.env.S\n",
    "        self.model.setObjective(self.obj,GRB.MINIMIZE)\n",
    "        for i in range(self.env.S):\n",
    "            for j in range(self.env.A):\n",
    "                total = 0\n",
    "                for k in range(self.env.S):\n",
    "                    total = total + self.env.gamma*self.env.P[j,i,k]*self.var[k]\n",
    "                self.model.addConstr( self.var[i] >= self.env.R[i,j] + total, \"Contrainte%d\" % i)\n",
    "\n",
    "        self.building_time = thread_time()-start_time\n",
    "\n",
    "    def run(self):\n",
    "        self.model.optimize()\n",
    "        self.runtime = self.model.Runtime\n",
    "        assert GRB.OPTIMAL == 2\n"
   ]
  },
  {
   "cell_type": "code",
   "execution_count": 9,
   "metadata": {},
   "outputs": [],
   "source": [
    "solver = GurobiSolverPLDual(env)\n",
    "solver.build()\n",
    "solver.run()"
   ]
  }
 ],
 "metadata": {
  "kernelspec": {
   "display_name": "Python 3",
   "language": "python",
   "name": "python3"
  },
  "language_info": {
   "codemirror_mode": {
    "name": "ipython",
    "version": 3
   },
   "file_extension": ".py",
   "mimetype": "text/x-python",
   "name": "python",
   "nbconvert_exporter": "python",
   "pygments_lexer": "ipython3",
   "version": "3.8.10"
  },
  "orig_nbformat": 4,
  "vscode": {
   "interpreter": {
    "hash": "31f2aee4e71d21fbe5cf8b01ff0e069b9275f58929596ceb00d14d90e3e16cd6"
   }
  }
 },
 "nbformat": 4,
 "nbformat_minor": 2
}
