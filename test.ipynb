{
 "cells": [
  {
   "cell_type": "code",
   "execution_count": 7,
   "metadata": {},
   "outputs": [
    {
     "name": "stdout",
     "output_type": "stream",
     "text": [
      "['Ex10', 'Ex20', 'Ex30', 'Ex31', 'Ex40', 'froz_l_e', 'froz_l', 'taxi', 'rooms_1', 'rooms_2', 'rooms_3', 'rooms_4']\n",
      "['mdpTB_VI', 'mdpTB_VIGS', 'mdpTB_PI', 'mdpTB_PIM']\n"
     ]
    }
   ],
   "source": [
    "import pandas as pd\n",
    "from environments.envs import make_env, envs_list\n",
    "from solvers.solvers import solve, solve_methods\n",
    "import os\n",
    "from tqdm import tqdm\n",
    "from time import time\n",
    "\n",
    "print(envs_list)\n",
    "print(solve_methods)\n",
    "env = make_env(envs_list[6])"
   ]
  },
  {
   "cell_type": "code",
   "execution_count": 8,
   "metadata": {},
   "outputs": [
    {
     "data": {
      "text/plain": [
       "(4, 16, 16)"
      ]
     },
     "execution_count": 8,
     "metadata": {},
     "output_type": "execute_result"
    }
   ],
   "source": []
  },
  {
   "cell_type": "code",
   "execution_count": 10,
   "metadata": {},
   "outputs": [
    {
     "data": {
      "text/plain": [
       "(16, 4)"
      ]
     },
     "execution_count": 10,
     "metadata": {},
     "output_type": "execute_result"
    }
   ],
   "source": [
    "env.R.shape"
   ]
  }
 ],
 "metadata": {
  "kernelspec": {
   "display_name": "Python 3.9.13 ('base')",
   "language": "python",
   "name": "python3"
  },
  "language_info": {
   "codemirror_mode": {
    "name": "ipython",
    "version": 3
   },
   "file_extension": ".py",
   "mimetype": "text/x-python",
   "name": "python",
   "nbconvert_exporter": "python",
   "pygments_lexer": "ipython3",
   "version": "3.9.13"
  },
  "orig_nbformat": 4,
  "vscode": {
   "interpreter": {
    "hash": "51569e6e7f515387f5656396ee64c6c0501f823e228868d6193a7e551d0ebb3a"
   }
  }
 },
 "nbformat": 4,
 "nbformat_minor": 2
}
